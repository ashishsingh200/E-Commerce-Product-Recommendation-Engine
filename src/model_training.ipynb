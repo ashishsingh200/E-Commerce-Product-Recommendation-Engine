{
 "cells": [
  {
   "cell_type": "code",
   "execution_count": 37,
   "id": "c4407519",
   "metadata": {},
   "outputs": [],
   "source": [
    "import numpy  as np\n",
    "import pandas as pd\n",
    "import nltk\n",
    "import re\n",
    "import joblib\n",
    "from sklearn.cluster import KMeans\n",
    "import matplotlib.pyplot as plt\n",
    "from nltk.corpus import stopwords\n",
    "from sklearn.metrics import silhouette_score\n",
    "from sklearn.feature_extraction.text import TfidfVectorizer"
   ]
  },
  {
   "cell_type": "code",
   "execution_count": 38,
   "id": "f4bd730c",
   "metadata": {},
   "outputs": [],
   "source": [
    "def load_data(file_path: str)->pd.DataFrame:\n",
    "    return pd.read_csv(file_path)"
   ]
  },
  {
   "cell_type": "code",
   "execution_count": 39,
   "id": "5048f6c6",
   "metadata": {},
   "outputs": [],
   "source": [
    "file_path='../data/processed_data/processed_data.csv'\n",
    "data=load_data(file_path)"
   ]
  },
  {
   "cell_type": "code",
   "execution_count": 40,
   "id": "989d6645",
   "metadata": {},
   "outputs": [
    {
     "data": {
      "text/html": [
       "<div>\n",
       "<style scoped>\n",
       "    .dataframe tbody tr th:only-of-type {\n",
       "        vertical-align: middle;\n",
       "    }\n",
       "\n",
       "    .dataframe tbody tr th {\n",
       "        vertical-align: top;\n",
       "    }\n",
       "\n",
       "    .dataframe thead th {\n",
       "        text-align: right;\n",
       "    }\n",
       "</style>\n",
       "<table border=\"1\" class=\"dataframe\">\n",
       "  <thead>\n",
       "    <tr style=\"text-align: right;\">\n",
       "      <th></th>\n",
       "      <th>ProductId</th>\n",
       "      <th>UserId</th>\n",
       "      <th>Text</th>\n",
       "    </tr>\n",
       "  </thead>\n",
       "  <tbody>\n",
       "    <tr>\n",
       "      <th>0</th>\n",
       "      <td>B001E4KFG0</td>\n",
       "      <td>A3SGXH7AUHU8GW</td>\n",
       "      <td>I have bought several of the Vitality canned d...</td>\n",
       "    </tr>\n",
       "    <tr>\n",
       "      <th>1</th>\n",
       "      <td>B00813GRG4</td>\n",
       "      <td>A1D87F6ZCVE5NK</td>\n",
       "      <td>Product arrived labeled as Jumbo Salted Peanut...</td>\n",
       "    </tr>\n",
       "    <tr>\n",
       "      <th>2</th>\n",
       "      <td>B000LQOCH0</td>\n",
       "      <td>ABXLMWJIXXAIN</td>\n",
       "      <td>This is a confection that has been around a fe...</td>\n",
       "    </tr>\n",
       "    <tr>\n",
       "      <th>3</th>\n",
       "      <td>B000UA0QIQ</td>\n",
       "      <td>A395BORC6FGVXV</td>\n",
       "      <td>If you are looking for the secret ingredient i...</td>\n",
       "    </tr>\n",
       "    <tr>\n",
       "      <th>4</th>\n",
       "      <td>B006K2ZZ7K</td>\n",
       "      <td>A1UQRSCLF8GW1T</td>\n",
       "      <td>Great taffy at a great price.  There was a wid...</td>\n",
       "    </tr>\n",
       "    <tr>\n",
       "      <th>5</th>\n",
       "      <td>B006K2ZZ7K</td>\n",
       "      <td>ADT0SRK1MGOEU</td>\n",
       "      <td>I got a wild hair for taffy and ordered this f...</td>\n",
       "    </tr>\n",
       "    <tr>\n",
       "      <th>6</th>\n",
       "      <td>B006K2ZZ7K</td>\n",
       "      <td>A1SP2KVKFXXRU1</td>\n",
       "      <td>This saltwater taffy had great flavors and was...</td>\n",
       "    </tr>\n",
       "    <tr>\n",
       "      <th>7</th>\n",
       "      <td>B006K2ZZ7K</td>\n",
       "      <td>A3JRGQVEQN31IQ</td>\n",
       "      <td>This taffy is so good.  It is very soft and ch...</td>\n",
       "    </tr>\n",
       "    <tr>\n",
       "      <th>8</th>\n",
       "      <td>B000E7L2R4</td>\n",
       "      <td>A1MZYO9TZK0BBI</td>\n",
       "      <td>Right now I'm mostly just sprouting this so my...</td>\n",
       "    </tr>\n",
       "    <tr>\n",
       "      <th>9</th>\n",
       "      <td>B00171APVA</td>\n",
       "      <td>A21BT40VZCCYT4</td>\n",
       "      <td>This is a very healthy dog food. Good for thei...</td>\n",
       "    </tr>\n",
       "  </tbody>\n",
       "</table>\n",
       "</div>"
      ],
      "text/plain": [
       "    ProductId          UserId  \\\n",
       "0  B001E4KFG0  A3SGXH7AUHU8GW   \n",
       "1  B00813GRG4  A1D87F6ZCVE5NK   \n",
       "2  B000LQOCH0   ABXLMWJIXXAIN   \n",
       "3  B000UA0QIQ  A395BORC6FGVXV   \n",
       "4  B006K2ZZ7K  A1UQRSCLF8GW1T   \n",
       "5  B006K2ZZ7K   ADT0SRK1MGOEU   \n",
       "6  B006K2ZZ7K  A1SP2KVKFXXRU1   \n",
       "7  B006K2ZZ7K  A3JRGQVEQN31IQ   \n",
       "8  B000E7L2R4  A1MZYO9TZK0BBI   \n",
       "9  B00171APVA  A21BT40VZCCYT4   \n",
       "\n",
       "                                                Text  \n",
       "0  I have bought several of the Vitality canned d...  \n",
       "1  Product arrived labeled as Jumbo Salted Peanut...  \n",
       "2  This is a confection that has been around a fe...  \n",
       "3  If you are looking for the secret ingredient i...  \n",
       "4  Great taffy at a great price.  There was a wid...  \n",
       "5  I got a wild hair for taffy and ordered this f...  \n",
       "6  This saltwater taffy had great flavors and was...  \n",
       "7  This taffy is so good.  It is very soft and ch...  \n",
       "8  Right now I'm mostly just sprouting this so my...  \n",
       "9  This is a very healthy dog food. Good for thei...  "
      ]
     },
     "execution_count": 40,
     "metadata": {},
     "output_type": "execute_result"
    }
   ],
   "source": [
    "data.head(10)"
   ]
  },
  {
   "cell_type": "code",
   "execution_count": 41,
   "id": "db9c8f4d",
   "metadata": {},
   "outputs": [
    {
     "name": "stderr",
     "output_type": "stream",
     "text": [
      "[nltk_data] Downloading package stopwords to\n",
      "[nltk_data]     C:\\Users\\user\\AppData\\Roaming\\nltk_data...\n",
      "[nltk_data]   Package stopwords is already up-to-date!\n"
     ]
    }
   ],
   "source": [
    "nltk.download('stopwords')\n",
    "stop_words=set(stopwords.words('english'))"
   ]
  },
  {
   "cell_type": "code",
   "execution_count": 42,
   "id": "31b2d226",
   "metadata": {},
   "outputs": [],
   "source": [
    "def process_text(text):\n",
    "    text=re.sub(r'[^\\w\\s]','',text.lower())\n",
    "    words=text.split()\n",
    "\n",
    "    words=[word for word in words if word not in stop_words]\n",
    "    return \" \".join(words)"
   ]
  },
  {
   "cell_type": "code",
   "execution_count": 43,
   "id": "b033768d",
   "metadata": {},
   "outputs": [],
   "source": [
    "def process_data(dataset:pd.DataFrame , save_path: str)->None:\n",
    "    dataset['Cleaned_Text']=dataset['Text'].apply(process_text)\n",
    "    dataset=dataset.drop('Text',axis=1)\n",
    "    dataset.to_csv(save_path,index=False)"
   ]
  },
  {
   "cell_type": "code",
   "execution_count": 45,
   "id": "dd003412",
   "metadata": {},
   "outputs": [],
   "source": [
    "save_path='../data/processed_data/processed_data.csv'\n",
    "data=process_data(data,save_path)"
   ]
  },
  {
   "cell_type": "code",
   "execution_count": 47,
   "id": "e2f8378a",
   "metadata": {},
   "outputs": [
    {
     "name": "stderr",
     "output_type": "stream",
     "text": [
      "<>:1: SyntaxWarning: invalid escape sequence '\\d'\n",
      "<>:1: SyntaxWarning: invalid escape sequence '\\d'\n",
      "C:\\Users\\user\\AppData\\Local\\Temp\\ipykernel_13220\\1948195088.py:1: SyntaxWarning: invalid escape sequence '\\d'\n",
      "  file_path='..\\data\\processed_data\\processed_data.csv'\n"
     ]
    }
   ],
   "source": [
    "file_path='..\\data\\processed_data\\processed_data.csv'\n",
    "data1=load_data(file_path)\n",
    "data1=data1.head(200000)"
   ]
  },
  {
   "cell_type": "code",
   "execution_count": 48,
   "id": "e5ea7903",
   "metadata": {},
   "outputs": [
    {
     "data": {
      "text/plain": [
       "(200000, 3)"
      ]
     },
     "execution_count": 48,
     "metadata": {},
     "output_type": "execute_result"
    }
   ],
   "source": [
    "data1.shape"
   ]
  },
  {
   "cell_type": "code",
   "execution_count": 49,
   "id": "5e12f579",
   "metadata": {},
   "outputs": [],
   "source": [
    "def  TFVectorize_text(data1):\n",
    "    vectorizer = TfidfVectorizer(max_features=2500)\n",
    "    X_tfidf = vectorizer.fit_transform(data1['Cleaned_Text'])\n",
    "\n",
    "    joblib.dump(vectorizer,'../models/tfidf_vectorizer.pkl')\n",
    "\n",
    "\n",
    "    return X_tfidf,vectorizer"
   ]
  },
  {
   "cell_type": "code",
   "execution_count": 50,
   "id": "682faedf",
   "metadata": {},
   "outputs": [],
   "source": [
    "x_tfidf, vec = TFVectorize_text(data1)"
   ]
  },
  {
   "cell_type": "code",
   "execution_count": 51,
   "id": "6a2a6620",
   "metadata": {},
   "outputs": [
    {
     "data": {
      "image/png": "[encoded data removed]",
      "text/plain": [
       "<Figure size 640x480 with 1 Axes>"
      ]
     },
     "metadata": {},
     "output_type": "display_data"
    }
   ],
   "source": [
    "wcss = []\n",
    "for i in range(1, 11):\n",
    "    kmeans = KMeans(n_clusters=i)\n",
    "    kmeans.fit(x_tfidf)\n",
    "    wcss.append(kmeans.inertia_)\n",
    "\n",
    "plt.plot(range(1, 11), wcss, marker='o')\n",
    "plt.title('Elbow Method')\n",
    "plt.xlabel('Number of clusters')\n",
    "plt.ylabel('WCSS')\n",
    "plt.show()"
   ]
  },
  {
   "cell_type": "code",
   "execution_count": 52,
   "id": "5ab053f0",
   "metadata": {},
   "outputs": [],
   "source": [
    "def train_kmeans_model(x_vec: np.ndarray, n_clusters: int = 6) -> KMeans:\n",
    "    kmeans_model = KMeans(n_clusters=n_clusters, random_state=42)\n",
    "    kmeans_model.fit(x_vec)\n",
    "    joblib.dump(kmeans_model, '../models/kmeans_model.pkl')\n",
    "    return kmeans_model"
   ]
  },
  {
   "cell_type": "code",
   "execution_count": 53,
   "id": "b5963650",
   "metadata": {},
   "outputs": [],
   "source": [
    "kmeans_model = train_kmeans_model(x_tfidf, n_clusters=6)\n",
    "cluster_labels = kmeans_model.labels_\n",
    "data1['Cluster'] = cluster_labels"
   ]
  },
  {
   "cell_type": "code",
   "execution_count": 54,
   "id": "418a4c21",
   "metadata": {},
   "outputs": [],
   "source": [
    "def save_data(dataset:pd.DataFrame ,save_path: str)->None:\n",
    "    dataset.to_csv(save_path,index=False)\n",
    "    "
   ]
  },
  {
   "cell_type": "code",
   "execution_count": 55,
   "id": "485b93cc",
   "metadata": {},
   "outputs": [],
   "source": [
    "save_data(data1,'../data/processed_data/final_data.csv')\n",
    "data2=load_data('../data/processed_data/final_data.csv')"
   ]
  },
  {
   "cell_type": "code",
   "execution_count": 56,
   "id": "eae1262a",
   "metadata": {},
   "outputs": [
    {
     "data": {
      "text/html": [
       "<div>\n",
       "<style scoped>\n",
       "    .dataframe tbody tr th:only-of-type {\n",
       "        vertical-align: middle;\n",
       "    }\n",
       "\n",
       "    .dataframe tbody tr th {\n",
       "        vertical-align: top;\n",
       "    }\n",
       "\n",
       "    .dataframe thead th {\n",
       "        text-align: right;\n",
       "    }\n",
       "</style>\n",
       "<table border=\"1\" class=\"dataframe\">\n",
       "  <thead>\n",
       "    <tr style=\"text-align: right;\">\n",
       "      <th></th>\n",
       "      <th>ProductId</th>\n",
       "      <th>UserId</th>\n",
       "      <th>Cleaned_Text</th>\n",
       "      <th>Cluster</th>\n",
       "    </tr>\n",
       "  </thead>\n",
       "  <tbody>\n",
       "    <tr>\n",
       "      <th>0</th>\n",
       "      <td>B001E4KFG0</td>\n",
       "      <td>A3SGXH7AUHU8GW</td>\n",
       "      <td>bought several vitality canned dog food produc...</td>\n",
       "      <td>3</td>\n",
       "    </tr>\n",
       "    <tr>\n",
       "      <th>1</th>\n",
       "      <td>B00813GRG4</td>\n",
       "      <td>A1D87F6ZCVE5NK</td>\n",
       "      <td>product arrived labeled jumbo salted peanutsth...</td>\n",
       "      <td>0</td>\n",
       "    </tr>\n",
       "    <tr>\n",
       "      <th>2</th>\n",
       "      <td>B000LQOCH0</td>\n",
       "      <td>ABXLMWJIXXAIN</td>\n",
       "      <td>confection around centuries light pillowy citr...</td>\n",
       "      <td>5</td>\n",
       "    </tr>\n",
       "    <tr>\n",
       "      <th>3</th>\n",
       "      <td>B000UA0QIQ</td>\n",
       "      <td>A395BORC6FGVXV</td>\n",
       "      <td>looking secret ingredient robitussin believe f...</td>\n",
       "      <td>5</td>\n",
       "    </tr>\n",
       "    <tr>\n",
       "      <th>4</th>\n",
       "      <td>B006K2ZZ7K</td>\n",
       "      <td>A1UQRSCLF8GW1T</td>\n",
       "      <td>great taffy great price wide assortment yummy ...</td>\n",
       "      <td>0</td>\n",
       "    </tr>\n",
       "  </tbody>\n",
       "</table>\n",
       "</div>"
      ],
      "text/plain": [
       "    ProductId          UserId  \\\n",
       "0  B001E4KFG0  A3SGXH7AUHU8GW   \n",
       "1  B00813GRG4  A1D87F6ZCVE5NK   \n",
       "2  B000LQOCH0   ABXLMWJIXXAIN   \n",
       "3  B000UA0QIQ  A395BORC6FGVXV   \n",
       "4  B006K2ZZ7K  A1UQRSCLF8GW1T   \n",
       "\n",
       "                                        Cleaned_Text  Cluster  \n",
       "0  bought several vitality canned dog food produc...        3  \n",
       "1  product arrived labeled jumbo salted peanutsth...        0  \n",
       "2  confection around centuries light pillowy citr...        5  \n",
       "3  looking secret ingredient robitussin believe f...        5  \n",
       "4  great taffy great price wide assortment yummy ...        0  "
      ]
     },
     "execution_count": 56,
     "metadata": {},
     "output_type": "execute_result"
    }
   ],
   "source": [
    "data2.head()"
   ]
  },
  {
   "cell_type": "code",
   "execution_count": 57,
   "id": "fe44a6bd",
   "metadata": {},
   "outputs": [],
   "source": [
    "def evaluate_kmeans_model(model, x_vec) -> dict:\n",
    "    labels = model.labels_\n",
    "    \n",
    "    silhouette = silhouette_score(x_vec, labels)\n",
    "    \"\"\"\"\n",
    "        Silhouette Score\tMeasures how similar an object is to its own cluster vs others. Higher is better.\n",
    "        \n",
    "    \"\"\"\n",
    "    \n",
    "    return {\n",
    "        'Silhouette Score': silhouette,\n",
    "    } "
   ]
  },
  {
   "cell_type": "code",
   "execution_count": 58,
   "id": "9b452dff",
   "metadata": {},
   "outputs": [
    {
     "name": "stdout",
     "output_type": "stream",
     "text": [
      "{'Silhouette Score': np.float64(0.0105723684158601)}\n"
     ]
    }
   ],
   "source": [
    "report=evaluate_kmeans_model(kmeans_model,x_tfidf)\n",
    "print(report)"
   ]
  },
  {
   "cell_type": "code",
   "execution_count": null,
   "id": "a7c493a8",
   "metadata": {},
   "outputs": [],
   "source": []
  }
 ],
 "metadata": {
  "kernelspec": {
   "display_name": "tech",
   "language": "python",
   "name": "python3"
  },
  "language_info": {
   "codemirror_mode": {
    "name": "ipython",
    "version": 3
   },
   "file_extension": ".py",
   "mimetype": "text/x-python",
   "name": "python",
   "nbconvert_exporter": "python",
   "pygments_lexer": "ipython3",
   "version": "3.12.8"
  }
 },
 "nbformat": 4,
 "nbformat_minor": 5
}
