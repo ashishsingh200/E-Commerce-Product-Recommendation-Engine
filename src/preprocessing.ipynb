{
 "cells": [
  {
   "cell_type": "code",
   "execution_count": 2,
   "id": "af270a4d",
   "metadata": {},
   "outputs": [],
   "source": [
    "import numpy as np\n",
    "import pandas as pd\n",
    "import matplotlib.pyplot as plt\n",
    "from sklearn.preprocessing import LabelEncoder\n",
    "import seaborn as sns\n",
    "import os"
   ]
  },
  {
   "cell_type": "code",
   "execution_count": 3,
   "id": "372f5113-3947-4630-9544-0f08ef28bbca",
   "metadata": {},
   "outputs": [],
   "source": [
    "def load_data(data_path: str) -> pd.DataFrame:\n",
    "    return pd.read_csv(data_path)"
   ]
  },
  {
   "cell_type": "code",
   "execution_count": 4,
   "id": "eb411eac-bd3a-4d23-ab9b-455447d21956",
   "metadata": {},
   "outputs": [
    {
     "data": {
      "text/html": [
       "<div>\n",
       "<style scoped>\n",
       "    .dataframe tbody tr th:only-of-type {\n",
       "        vertical-align: middle;\n",
       "    }\n",
       "\n",
       "    .dataframe tbody tr th {\n",
       "        vertical-align: top;\n",
       "    }\n",
       "\n",
       "    .dataframe thead th {\n",
       "        text-align: right;\n",
       "    }\n",
       "</style>\n",
       "<table border=\"1\" class=\"dataframe\">\n",
       "  <thead>\n",
       "    <tr style=\"text-align: right;\">\n",
       "      <th></th>\n",
       "      <th>Id</th>\n",
       "      <th>ProductId</th>\n",
       "      <th>UserId</th>\n",
       "      <th>ProfileName</th>\n",
       "      <th>HelpfulnessNumerator</th>\n",
       "      <th>HelpfulnessDenominator</th>\n",
       "      <th>Score</th>\n",
       "      <th>Time</th>\n",
       "      <th>Summary</th>\n",
       "      <th>Text</th>\n",
       "    </tr>\n",
       "  </thead>\n",
       "  <tbody>\n",
       "    <tr>\n",
       "      <th>0</th>\n",
       "      <td>1</td>\n",
       "      <td>B001E4KFG0</td>\n",
       "      <td>A3SGXH7AUHU8GW</td>\n",
       "      <td>delmartian</td>\n",
       "      <td>1</td>\n",
       "      <td>1</td>\n",
       "      <td>5</td>\n",
       "      <td>1303862400</td>\n",
       "      <td>Good Quality Dog Food</td>\n",
       "      <td>I have bought several of the Vitality canned d...</td>\n",
       "    </tr>\n",
       "    <tr>\n",
       "      <th>1</th>\n",
       "      <td>2</td>\n",
       "      <td>B00813GRG4</td>\n",
       "      <td>A1D87F6ZCVE5NK</td>\n",
       "      <td>dll pa</td>\n",
       "      <td>0</td>\n",
       "      <td>0</td>\n",
       "      <td>1</td>\n",
       "      <td>1346976000</td>\n",
       "      <td>Not as Advertised</td>\n",
       "      <td>Product arrived labeled as Jumbo Salted Peanut...</td>\n",
       "    </tr>\n",
       "    <tr>\n",
       "      <th>2</th>\n",
       "      <td>3</td>\n",
       "      <td>B000LQOCH0</td>\n",
       "      <td>ABXLMWJIXXAIN</td>\n",
       "      <td>Natalia Corres \"Natalia Corres\"</td>\n",
       "      <td>1</td>\n",
       "      <td>1</td>\n",
       "      <td>4</td>\n",
       "      <td>1219017600</td>\n",
       "      <td>\"Delight\" says it all</td>\n",
       "      <td>This is a confection that has been around a fe...</td>\n",
       "    </tr>\n",
       "    <tr>\n",
       "      <th>3</th>\n",
       "      <td>4</td>\n",
       "      <td>B000UA0QIQ</td>\n",
       "      <td>A395BORC6FGVXV</td>\n",
       "      <td>Karl</td>\n",
       "      <td>3</td>\n",
       "      <td>3</td>\n",
       "      <td>2</td>\n",
       "      <td>1307923200</td>\n",
       "      <td>Cough Medicine</td>\n",
       "      <td>If you are looking for the secret ingredient i...</td>\n",
       "    </tr>\n",
       "    <tr>\n",
       "      <th>4</th>\n",
       "      <td>5</td>\n",
       "      <td>B006K2ZZ7K</td>\n",
       "      <td>A1UQRSCLF8GW1T</td>\n",
       "      <td>Michael D. Bigham \"M. Wassir\"</td>\n",
       "      <td>0</td>\n",
       "      <td>0</td>\n",
       "      <td>5</td>\n",
       "      <td>1350777600</td>\n",
       "      <td>Great taffy</td>\n",
       "      <td>Great taffy at a great price.  There was a wid...</td>\n",
       "    </tr>\n",
       "  </tbody>\n",
       "</table>\n",
       "</div>"
      ],
      "text/plain": [
       "   Id   ProductId          UserId                      ProfileName  \\\n",
       "0   1  B001E4KFG0  A3SGXH7AUHU8GW                       delmartian   \n",
       "1   2  B00813GRG4  A1D87F6ZCVE5NK                           dll pa   \n",
       "2   3  B000LQOCH0   ABXLMWJIXXAIN  Natalia Corres \"Natalia Corres\"   \n",
       "3   4  B000UA0QIQ  A395BORC6FGVXV                             Karl   \n",
       "4   5  B006K2ZZ7K  A1UQRSCLF8GW1T    Michael D. Bigham \"M. Wassir\"   \n",
       "\n",
       "   HelpfulnessNumerator  HelpfulnessDenominator  Score        Time  \\\n",
       "0                     1                       1      5  1303862400   \n",
       "1                     0                       0      1  1346976000   \n",
       "2                     1                       1      4  1219017600   \n",
       "3                     3                       3      2  1307923200   \n",
       "4                     0                       0      5  1350777600   \n",
       "\n",
       "                 Summary                                               Text  \n",
       "0  Good Quality Dog Food  I have bought several of the Vitality canned d...  \n",
       "1      Not as Advertised  Product arrived labeled as Jumbo Salted Peanut...  \n",
       "2  \"Delight\" says it all  This is a confection that has been around a fe...  \n",
       "3         Cough Medicine  If you are looking for the secret ingredient i...  \n",
       "4            Great taffy  Great taffy at a great price.  There was a wid...  "
      ]
     },
     "execution_count": 4,
     "metadata": {},
     "output_type": "execute_result"
    }
   ],
   "source": [
    "data_path='../data/raw_data/Reviews.csv'\n",
    "raw_data=load_data(data_path)\n",
    "raw_data.head()"
   ]
  },
  {
   "cell_type": "code",
   "execution_count": 5,
   "id": "37b7408b-e15e-4e8f-8303-955ed0f8e276",
   "metadata": {},
   "outputs": [],
   "source": [
    "def explore_data(raw_data: pd.DataFrame) ->None:\n",
    "    print(\"The General Information\")\n",
    "    print()\n",
    "    print(f\"The Size of the Dataset : {raw_data.shape}\")\n",
    "    print()\n",
    "    #print(\"Information On The Datasets : \")\n",
    "    print(raw_data.info())\n",
    "    print(\"=\"*308)\n",
    "\n",
    "\n",
    "    print(\"Statistical Analysis: \")\n",
    "    print(raw_data.describe(include='all'))\n",
    "    print()\n",
    "    print(\"=\"*308)\n",
    "    print(\"Data Types: \")\n",
    "    print(raw_data.dtypes)"
   ]
  },
  {
   "cell_type": "code",
   "execution_count": 6,
   "id": "3cfe0aa9-f052-4975-9a6b-c790bb9fdafc",
   "metadata": {},
   "outputs": [
    {
     "name": "stdout",
     "output_type": "stream",
     "text": [
      "The General Information\n",
      "\n",
      "The Size of the Dataset : (568454, 10)\n",
      "\n",
      "<class 'pandas.core.frame.DataFrame'>\n",
      "RangeIndex: 568454 entries, 0 to 568453\n",
      "Data columns (total 10 columns):\n",
      " #   Column                  Non-Null Count   Dtype \n",
      "---  ------                  --------------   ----- \n",
      " 0   Id                      568454 non-null  int64 \n",
      " 1   ProductId               568454 non-null  object\n",
      " 2   UserId                  568454 non-null  object\n",
      " 3   ProfileName             568428 non-null  object\n",
      " 4   HelpfulnessNumerator    568454 non-null  int64 \n",
      " 5   HelpfulnessDenominator  568454 non-null  int64 \n",
      " 6   Score                   568454 non-null  int64 \n",
      " 7   Time                    568454 non-null  int64 \n",
      " 8   Summary                 568427 non-null  object\n",
      " 9   Text                    568454 non-null  object\n",
      "dtypes: int64(5), object(5)\n",
      "memory usage: 43.4+ MB\n",
      "None\n",
      "====================================================================================================================================================================================================================================================================================================================\n",
      "Statistical Analysis: \n",
      "                   Id   ProductId          UserId       ProfileName  \\\n",
      "count   568454.000000      568454          568454            568428   \n",
      "unique            NaN       74258          256059            218415   \n",
      "top               NaN  B007JFMH8M  A3OXHLG6DIBRW8  C. F. Hill \"CFH\"   \n",
      "freq              NaN         913             448               451   \n",
      "mean    284227.500000         NaN             NaN               NaN   \n",
      "std     164098.679298         NaN             NaN               NaN   \n",
      "min          1.000000         NaN             NaN               NaN   \n",
      "25%     142114.250000         NaN             NaN               NaN   \n",
      "50%     284227.500000         NaN             NaN               NaN   \n",
      "75%     426340.750000         NaN             NaN               NaN   \n",
      "max     568454.000000         NaN             NaN               NaN   \n",
      "\n",
      "        HelpfulnessNumerator  HelpfulnessDenominator          Score  \\\n",
      "count          568454.000000            568454.00000  568454.000000   \n",
      "unique                   NaN                     NaN            NaN   \n",
      "top                      NaN                     NaN            NaN   \n",
      "freq                     NaN                     NaN            NaN   \n",
      "mean                1.743817                 2.22881       4.183199   \n",
      "std                 7.636513                 8.28974       1.310436   \n",
      "min                 0.000000                 0.00000       1.000000   \n",
      "25%                 0.000000                 0.00000       4.000000   \n",
      "50%                 0.000000                 1.00000       5.000000   \n",
      "75%                 2.000000                 2.00000       5.000000   \n",
      "max               866.000000               923.00000       5.000000   \n",
      "\n",
      "                Time     Summary  \\\n",
      "count   5.684540e+05      568427   \n",
      "unique           NaN      295742   \n",
      "top              NaN  Delicious!   \n",
      "freq             NaN        2462   \n",
      "mean    1.296257e+09         NaN   \n",
      "std     4.804331e+07         NaN   \n",
      "min     9.393408e+08         NaN   \n",
      "25%     1.271290e+09         NaN   \n",
      "50%     1.311120e+09         NaN   \n",
      "75%     1.332720e+09         NaN   \n",
      "max     1.351210e+09         NaN   \n",
      "\n",
      "                                                     Text  \n",
      "count                                              568454  \n",
      "unique                                             393579  \n",
      "top     This review will make me sound really stupid, ...  \n",
      "freq                                                  199  \n",
      "mean                                                  NaN  \n",
      "std                                                   NaN  \n",
      "min                                                   NaN  \n",
      "25%                                                   NaN  \n",
      "50%                                                   NaN  \n",
      "75%                                                   NaN  \n",
      "max                                                   NaN  \n",
      "\n",
      "====================================================================================================================================================================================================================================================================================================================\n",
      "Data Types: \n",
      "Id                         int64\n",
      "ProductId                 object\n",
      "UserId                    object\n",
      "ProfileName               object\n",
      "HelpfulnessNumerator       int64\n",
      "HelpfulnessDenominator     int64\n",
      "Score                      int64\n",
      "Time                       int64\n",
      "Summary                   object\n",
      "Text                      object\n",
      "dtype: object\n"
     ]
    }
   ],
   "source": [
    "explore_data(raw_data)"
   ]
  },
  {
   "cell_type": "code",
   "execution_count": 7,
   "id": "9202eb06-38c0-4087-87d2-115f3e375295",
   "metadata": {},
   "outputs": [],
   "source": [
    "def find_null(raw_data: pd.DataFrame) -> pd.DataFrame:\n",
    "    check=raw_data.isnull().sum()\n",
    "    print(check)"
   ]
  },
  {
   "cell_type": "code",
   "execution_count": 8,
   "id": "2cf2e24c-b2d5-4352-a14b-aa7ea786d70b",
   "metadata": {},
   "outputs": [
    {
     "name": "stdout",
     "output_type": "stream",
     "text": [
      "Id                         0\n",
      "ProductId                  0\n",
      "UserId                     0\n",
      "ProfileName               26\n",
      "HelpfulnessNumerator       0\n",
      "HelpfulnessDenominator     0\n",
      "Score                      0\n",
      "Time                       0\n",
      "Summary                   27\n",
      "Text                       0\n",
      "dtype: int64\n"
     ]
    }
   ],
   "source": [
    "find_null(raw_data)"
   ]
  },
  {
   "cell_type": "code",
   "execution_count": 9,
   "id": "c4f75a79-a262-4214-9ecf-0589b405e848",
   "metadata": {},
   "outputs": [],
   "source": [
    "def check_duplicates(raw_data: pd.DataFrame)-> pd.DataFrame:\n",
    "    return print(raw_data.duplicated().sum())"
   ]
  },
  {
   "cell_type": "code",
   "execution_count": 10,
   "id": "054f9fd7-2605-4593-8078-f9c1b1972fa7",
   "metadata": {},
   "outputs": [
    {
     "name": "stdout",
     "output_type": "stream",
     "text": [
      "0\n"
     ]
    }
   ],
   "source": [
    "check_duplicates(raw_data)"
   ]
  },
  {
   "cell_type": "code",
   "execution_count": 11,
   "id": "3d6221e1-3878-45f6-a210-c981bece397a",
   "metadata": {},
   "outputs": [],
   "source": [
    "def remove_duplicates(raw_data: pd.DataFrame ,save_path: str)->None:\n",
    "    cleaned_data = raw_data.drop_duplicates(inplace=True)\n",
    "    raw_data.to_csv(save_path, index=False)\n",
    "    print(f\"Cleaned data saved successfully at {save_path}\")"
   ]
  },
  {
   "cell_type": "code",
   "execution_count": 12,
   "id": "3765c6f6-5f40-4115-9acc-679482a87024",
   "metadata": {},
   "outputs": [],
   "source": [
    "def remove_null_values(raw_data: pd.DataFrame , save_path: str)-> None:\n",
    "    cleaned_data=raw_data.dropna()\n",
    "    cleaned_data.to_csv(save_path, index=False)\n",
    "    print(f\"Cleaned data saved to {save_path}\")\n",
    "    return cleaned_data"
   ]
  },
  {
   "cell_type": "code",
   "execution_count": 13,
   "id": "db0fa457-736e-4813-9df8-142f8c2e118d",
   "metadata": {},
   "outputs": [
    {
     "name": "stdout",
     "output_type": "stream",
     "text": [
      "Id                         0\n",
      "ProductId                  0\n",
      "UserId                     0\n",
      "ProfileName               26\n",
      "HelpfulnessNumerator       0\n",
      "HelpfulnessDenominator     0\n",
      "Score                      0\n",
      "Time                       0\n",
      "Summary                   27\n",
      "Text                       0\n",
      "dtype: int64\n"
     ]
    }
   ],
   "source": [
    "find_null(raw_data)"
   ]
  },
  {
   "cell_type": "code",
   "execution_count": 14,
   "id": "043f2327-97e1-4f46-a074-1f83642f03fd",
   "metadata": {},
   "outputs": [
    {
     "name": "stdout",
     "output_type": "stream",
     "text": [
      "Cleaned data saved to ../data/processed_data/processed_data.csv\n"
     ]
    },
    {
     "data": {
      "text/html": [
       "<div>\n",
       "<style scoped>\n",
       "    .dataframe tbody tr th:only-of-type {\n",
       "        vertical-align: middle;\n",
       "    }\n",
       "\n",
       "    .dataframe tbody tr th {\n",
       "        vertical-align: top;\n",
       "    }\n",
       "\n",
       "    .dataframe thead th {\n",
       "        text-align: right;\n",
       "    }\n",
       "</style>\n",
       "<table border=\"1\" class=\"dataframe\">\n",
       "  <thead>\n",
       "    <tr style=\"text-align: right;\">\n",
       "      <th></th>\n",
       "      <th>Id</th>\n",
       "      <th>ProductId</th>\n",
       "      <th>UserId</th>\n",
       "      <th>ProfileName</th>\n",
       "      <th>HelpfulnessNumerator</th>\n",
       "      <th>HelpfulnessDenominator</th>\n",
       "      <th>Score</th>\n",
       "      <th>Time</th>\n",
       "      <th>Summary</th>\n",
       "      <th>Text</th>\n",
       "    </tr>\n",
       "  </thead>\n",
       "  <tbody>\n",
       "    <tr>\n",
       "      <th>0</th>\n",
       "      <td>1</td>\n",
       "      <td>B001E4KFG0</td>\n",
       "      <td>A3SGXH7AUHU8GW</td>\n",
       "      <td>delmartian</td>\n",
       "      <td>1</td>\n",
       "      <td>1</td>\n",
       "      <td>5</td>\n",
       "      <td>1303862400</td>\n",
       "      <td>Good Quality Dog Food</td>\n",
       "      <td>I have bought several of the Vitality canned d...</td>\n",
       "    </tr>\n",
       "    <tr>\n",
       "      <th>1</th>\n",
       "      <td>2</td>\n",
       "      <td>B00813GRG4</td>\n",
       "      <td>A1D87F6ZCVE5NK</td>\n",
       "      <td>dll pa</td>\n",
       "      <td>0</td>\n",
       "      <td>0</td>\n",
       "      <td>1</td>\n",
       "      <td>1346976000</td>\n",
       "      <td>Not as Advertised</td>\n",
       "      <td>Product arrived labeled as Jumbo Salted Peanut...</td>\n",
       "    </tr>\n",
       "    <tr>\n",
       "      <th>2</th>\n",
       "      <td>3</td>\n",
       "      <td>B000LQOCH0</td>\n",
       "      <td>ABXLMWJIXXAIN</td>\n",
       "      <td>Natalia Corres \"Natalia Corres\"</td>\n",
       "      <td>1</td>\n",
       "      <td>1</td>\n",
       "      <td>4</td>\n",
       "      <td>1219017600</td>\n",
       "      <td>\"Delight\" says it all</td>\n",
       "      <td>This is a confection that has been around a fe...</td>\n",
       "    </tr>\n",
       "    <tr>\n",
       "      <th>3</th>\n",
       "      <td>4</td>\n",
       "      <td>B000UA0QIQ</td>\n",
       "      <td>A395BORC6FGVXV</td>\n",
       "      <td>Karl</td>\n",
       "      <td>3</td>\n",
       "      <td>3</td>\n",
       "      <td>2</td>\n",
       "      <td>1307923200</td>\n",
       "      <td>Cough Medicine</td>\n",
       "      <td>If you are looking for the secret ingredient i...</td>\n",
       "    </tr>\n",
       "    <tr>\n",
       "      <th>4</th>\n",
       "      <td>5</td>\n",
       "      <td>B006K2ZZ7K</td>\n",
       "      <td>A1UQRSCLF8GW1T</td>\n",
       "      <td>Michael D. Bigham \"M. Wassir\"</td>\n",
       "      <td>0</td>\n",
       "      <td>0</td>\n",
       "      <td>5</td>\n",
       "      <td>1350777600</td>\n",
       "      <td>Great taffy</td>\n",
       "      <td>Great taffy at a great price.  There was a wid...</td>\n",
       "    </tr>\n",
       "    <tr>\n",
       "      <th>...</th>\n",
       "      <td>...</td>\n",
       "      <td>...</td>\n",
       "      <td>...</td>\n",
       "      <td>...</td>\n",
       "      <td>...</td>\n",
       "      <td>...</td>\n",
       "      <td>...</td>\n",
       "      <td>...</td>\n",
       "      <td>...</td>\n",
       "      <td>...</td>\n",
       "    </tr>\n",
       "    <tr>\n",
       "      <th>568449</th>\n",
       "      <td>568450</td>\n",
       "      <td>B001EO7N10</td>\n",
       "      <td>A28KG5XORO54AY</td>\n",
       "      <td>Lettie D. Carter</td>\n",
       "      <td>0</td>\n",
       "      <td>0</td>\n",
       "      <td>5</td>\n",
       "      <td>1299628800</td>\n",
       "      <td>Will not do without</td>\n",
       "      <td>Great for sesame chicken..this is a good if no...</td>\n",
       "    </tr>\n",
       "    <tr>\n",
       "      <th>568450</th>\n",
       "      <td>568451</td>\n",
       "      <td>B003S1WTCU</td>\n",
       "      <td>A3I8AFVPEE8KI5</td>\n",
       "      <td>R. Sawyer</td>\n",
       "      <td>0</td>\n",
       "      <td>0</td>\n",
       "      <td>2</td>\n",
       "      <td>1331251200</td>\n",
       "      <td>disappointed</td>\n",
       "      <td>I'm disappointed with the flavor. The chocolat...</td>\n",
       "    </tr>\n",
       "    <tr>\n",
       "      <th>568451</th>\n",
       "      <td>568452</td>\n",
       "      <td>B004I613EE</td>\n",
       "      <td>A121AA1GQV751Z</td>\n",
       "      <td>pksd \"pk_007\"</td>\n",
       "      <td>2</td>\n",
       "      <td>2</td>\n",
       "      <td>5</td>\n",
       "      <td>1329782400</td>\n",
       "      <td>Perfect for our maltipoo</td>\n",
       "      <td>These stars are small, so you can give 10-15 o...</td>\n",
       "    </tr>\n",
       "    <tr>\n",
       "      <th>568452</th>\n",
       "      <td>568453</td>\n",
       "      <td>B004I613EE</td>\n",
       "      <td>A3IBEVCTXKNOH</td>\n",
       "      <td>Kathy A. Welch \"katwel\"</td>\n",
       "      <td>1</td>\n",
       "      <td>1</td>\n",
       "      <td>5</td>\n",
       "      <td>1331596800</td>\n",
       "      <td>Favorite Training and reward treat</td>\n",
       "      <td>These are the BEST treats for training and rew...</td>\n",
       "    </tr>\n",
       "    <tr>\n",
       "      <th>568453</th>\n",
       "      <td>568454</td>\n",
       "      <td>B001LR2CU2</td>\n",
       "      <td>A3LGQPJCZVL9UC</td>\n",
       "      <td>srfell17</td>\n",
       "      <td>0</td>\n",
       "      <td>0</td>\n",
       "      <td>5</td>\n",
       "      <td>1338422400</td>\n",
       "      <td>Great Honey</td>\n",
       "      <td>I am very satisfied ,product is as advertised,...</td>\n",
       "    </tr>\n",
       "  </tbody>\n",
       "</table>\n",
       "<p>568401 rows × 10 columns</p>\n",
       "</div>"
      ],
      "text/plain": [
       "            Id   ProductId          UserId                      ProfileName  \\\n",
       "0            1  B001E4KFG0  A3SGXH7AUHU8GW                       delmartian   \n",
       "1            2  B00813GRG4  A1D87F6ZCVE5NK                           dll pa   \n",
       "2            3  B000LQOCH0   ABXLMWJIXXAIN  Natalia Corres \"Natalia Corres\"   \n",
       "3            4  B000UA0QIQ  A395BORC6FGVXV                             Karl   \n",
       "4            5  B006K2ZZ7K  A1UQRSCLF8GW1T    Michael D. Bigham \"M. Wassir\"   \n",
       "...        ...         ...             ...                              ...   \n",
       "568449  568450  B001EO7N10  A28KG5XORO54AY                 Lettie D. Carter   \n",
       "568450  568451  B003S1WTCU  A3I8AFVPEE8KI5                        R. Sawyer   \n",
       "568451  568452  B004I613EE  A121AA1GQV751Z                    pksd \"pk_007\"   \n",
       "568452  568453  B004I613EE   A3IBEVCTXKNOH          Kathy A. Welch \"katwel\"   \n",
       "568453  568454  B001LR2CU2  A3LGQPJCZVL9UC                         srfell17   \n",
       "\n",
       "        HelpfulnessNumerator  HelpfulnessDenominator  Score        Time  \\\n",
       "0                          1                       1      5  1303862400   \n",
       "1                          0                       0      1  1346976000   \n",
       "2                          1                       1      4  1219017600   \n",
       "3                          3                       3      2  1307923200   \n",
       "4                          0                       0      5  1350777600   \n",
       "...                      ...                     ...    ...         ...   \n",
       "568449                     0                       0      5  1299628800   \n",
       "568450                     0                       0      2  1331251200   \n",
       "568451                     2                       2      5  1329782400   \n",
       "568452                     1                       1      5  1331596800   \n",
       "568453                     0                       0      5  1338422400   \n",
       "\n",
       "                                   Summary  \\\n",
       "0                    Good Quality Dog Food   \n",
       "1                        Not as Advertised   \n",
       "2                    \"Delight\" says it all   \n",
       "3                           Cough Medicine   \n",
       "4                              Great taffy   \n",
       "...                                    ...   \n",
       "568449                 Will not do without   \n",
       "568450                        disappointed   \n",
       "568451            Perfect for our maltipoo   \n",
       "568452  Favorite Training and reward treat   \n",
       "568453                         Great Honey   \n",
       "\n",
       "                                                     Text  \n",
       "0       I have bought several of the Vitality canned d...  \n",
       "1       Product arrived labeled as Jumbo Salted Peanut...  \n",
       "2       This is a confection that has been around a fe...  \n",
       "3       If you are looking for the secret ingredient i...  \n",
       "4       Great taffy at a great price.  There was a wid...  \n",
       "...                                                   ...  \n",
       "568449  Great for sesame chicken..this is a good if no...  \n",
       "568450  I'm disappointed with the flavor. The chocolat...  \n",
       "568451  These stars are small, so you can give 10-15 o...  \n",
       "568452  These are the BEST treats for training and rew...  \n",
       "568453  I am very satisfied ,product is as advertised,...  \n",
       "\n",
       "[568401 rows x 10 columns]"
      ]
     },
     "execution_count": 14,
     "metadata": {},
     "output_type": "execute_result"
    }
   ],
   "source": [
    "remove_null_values(raw_data,'../data/processed_data/processed_data.csv')"
   ]
  },
  {
   "cell_type": "code",
   "execution_count": 24,
   "id": "285fcf2a-0c55-4bb7-b2c9-6d790b66e35a",
   "metadata": {},
   "outputs": [
    {
     "name": "stdout",
     "output_type": "stream",
     "text": [
      "   Id   ProductId          UserId                      ProfileName  \\\n",
      "0   1  B001E4KFG0  A3SGXH7AUHU8GW                       delmartian   \n",
      "1   2  B00813GRG4  A1D87F6ZCVE5NK                           dll pa   \n",
      "2   3  B000LQOCH0   ABXLMWJIXXAIN  Natalia Corres \"Natalia Corres\"   \n",
      "3   4  B000UA0QIQ  A395BORC6FGVXV                             Karl   \n",
      "4   5  B006K2ZZ7K  A1UQRSCLF8GW1T    Michael D. Bigham \"M. Wassir\"   \n",
      "\n",
      "   HelpfulnessNumerator  HelpfulnessDenominator  Score        Time  \\\n",
      "0                     1                       1      5  1303862400   \n",
      "1                     0                       0      1  1346976000   \n",
      "2                     1                       1      4  1219017600   \n",
      "3                     3                       3      2  1307923200   \n",
      "4                     0                       0      5  1350777600   \n",
      "\n",
      "                 Summary                                               Text  \n",
      "0  Good Quality Dog Food  I have bought several of the Vitality canned d...  \n",
      "1      Not as Advertised  Product arrived labeled as Jumbo Salted Peanut...  \n",
      "2  \"Delight\" says it all  This is a confection that has been around a fe...  \n",
      "3         Cough Medicine  If you are looking for the secret ingredient i...  \n",
      "4            Great taffy  Great taffy at a great price.  There was a wid...  \n"
     ]
    }
   ],
   "source": [
    "processed_data='../data/processed_data/processed_data.csv'\n",
    "processed_data1=load_data(processed_data)\n",
    "print(processed_data1.head())"
   ]
  },
  {
   "cell_type": "code",
   "execution_count": 25,
   "id": "a4becfa8-7355-47ef-a9da-512a9244e7d3",
   "metadata": {},
   "outputs": [
    {
     "name": "stdout",
     "output_type": "stream",
     "text": [
      "Id                        0\n",
      "ProductId                 0\n",
      "UserId                    0\n",
      "ProfileName               0\n",
      "HelpfulnessNumerator      0\n",
      "HelpfulnessDenominator    0\n",
      "Score                     0\n",
      "Time                      0\n",
      "Summary                   0\n",
      "Text                      0\n",
      "dtype: int64\n"
     ]
    }
   ],
   "source": [
    "find_null(processed_data1)"
   ]
  },
  {
   "cell_type": "code",
   "execution_count": 26,
   "id": "95b125be-e3c5-476e-9bae-b8c00bbf8ede",
   "metadata": {},
   "outputs": [],
   "source": [
    "def generate_plot_count_vs_score(dataset: pd.DataFrame , save_path: str )->None:\n",
    "    plt.figure(figsize=(8,6))\n",
    "    sns.countplot(x='Score',data=dataset)\n",
    "    plt.title('Score')\n",
    "    plt.xlabel('Score')\n",
    "    plt.ylabel('count')\n",
    "    plt.grid()\n",
    "    plt.savefig(save_path)\n",
    "    plt.show()\n",
    "    plt.close()"
   ]
  },
  {
   "cell_type": "code",
   "execution_count": 27,
   "id": "2c4a249b-b76a-4e9c-ab21-04dc478e70fa",
   "metadata": {},
   "outputs": [
    {
     "data": {
      "image/png": "[encoded data removed]",
      "text/plain": [
       "<Figure size 800x600 with 1 Axes>"
      ]
     },
     "metadata": {},
     "output_type": "display_data"
    }
   ],
   "source": [
    "generate_plot_count_vs_score(processed_data1 ,'../assets/Count_vs_Score_plot.png')"
   ]
  },
  {
   "cell_type": "code",
   "execution_count": 28,
   "id": "718399e3-17fa-453f-82e8-59cd401ac6cb",
   "metadata": {},
   "outputs": [],
   "source": [
    "def make_sentiment_column(dataset: pd.DataFrame, save_path: str)-> None:\n",
    "    dataset[\"Sentiment\"] = dataset[\"Score\"].map({\n",
    "        1: \"Negative\",\n",
    "        2: \"Negative\",\n",
    "        3: \"Negative\",\n",
    "        4: \"Positive\",\n",
    "        5: \"Positive\"\n",
    "    })\n",
    "    dataset.to_csv(save_path, index=False)\n",
    "    print(f\"Dataset with Sentiment column saved to {save_path}\")\n",
    "    print(\"Sentiment Distribution:\")\n",
    "    print(dataset[\"Sentiment\"].value_counts())"
   ]
  },
  {
   "cell_type": "code",
   "execution_count": 29,
   "id": "fa8a8604-a79d-4350-9e0b-2c9fddbf27f5",
   "metadata": {},
   "outputs": [
    {
     "name": "stdout",
     "output_type": "stream",
     "text": [
      "Dataset with Sentiment column saved to ../data/processed_data/processed_data.csv\n",
      "Sentiment Distribution:\n",
      "Sentiment\n",
      "Positive    443756\n",
      "Negative    124645\n",
      "Name: count, dtype: int64\n"
     ]
    }
   ],
   "source": [
    "make_sentiment_column(processed_data1,'../data/processed_data/processed_data.csv')"
   ]
  },
  {
   "cell_type": "code",
   "execution_count": 31,
   "id": "f3811889-3ad1-4db9-b7f7-62f3090ed490",
   "metadata": {},
   "outputs": [
    {
     "data": {
      "text/html": [
       "<div>\n",
       "<style scoped>\n",
       "    .dataframe tbody tr th:only-of-type {\n",
       "        vertical-align: middle;\n",
       "    }\n",
       "\n",
       "    .dataframe tbody tr th {\n",
       "        vertical-align: top;\n",
       "    }\n",
       "\n",
       "    .dataframe thead th {\n",
       "        text-align: right;\n",
       "    }\n",
       "</style>\n",
       "<table border=\"1\" class=\"dataframe\">\n",
       "  <thead>\n",
       "    <tr style=\"text-align: right;\">\n",
       "      <th></th>\n",
       "      <th>Id</th>\n",
       "      <th>ProductId</th>\n",
       "      <th>UserId</th>\n",
       "      <th>ProfileName</th>\n",
       "      <th>HelpfulnessNumerator</th>\n",
       "      <th>HelpfulnessDenominator</th>\n",
       "      <th>Score</th>\n",
       "      <th>Time</th>\n",
       "      <th>Summary</th>\n",
       "      <th>Text</th>\n",
       "      <th>Sentiment</th>\n",
       "    </tr>\n",
       "  </thead>\n",
       "  <tbody>\n",
       "    <tr>\n",
       "      <th>0</th>\n",
       "      <td>1</td>\n",
       "      <td>B001E4KFG0</td>\n",
       "      <td>A3SGXH7AUHU8GW</td>\n",
       "      <td>delmartian</td>\n",
       "      <td>1</td>\n",
       "      <td>1</td>\n",
       "      <td>5</td>\n",
       "      <td>1303862400</td>\n",
       "      <td>Good Quality Dog Food</td>\n",
       "      <td>I have bought several of the Vitality canned d...</td>\n",
       "      <td>Positive</td>\n",
       "    </tr>\n",
       "    <tr>\n",
       "      <th>1</th>\n",
       "      <td>2</td>\n",
       "      <td>B00813GRG4</td>\n",
       "      <td>A1D87F6ZCVE5NK</td>\n",
       "      <td>dll pa</td>\n",
       "      <td>0</td>\n",
       "      <td>0</td>\n",
       "      <td>1</td>\n",
       "      <td>1346976000</td>\n",
       "      <td>Not as Advertised</td>\n",
       "      <td>Product arrived labeled as Jumbo Salted Peanut...</td>\n",
       "      <td>Negative</td>\n",
       "    </tr>\n",
       "    <tr>\n",
       "      <th>2</th>\n",
       "      <td>3</td>\n",
       "      <td>B000LQOCH0</td>\n",
       "      <td>ABXLMWJIXXAIN</td>\n",
       "      <td>Natalia Corres \"Natalia Corres\"</td>\n",
       "      <td>1</td>\n",
       "      <td>1</td>\n",
       "      <td>4</td>\n",
       "      <td>1219017600</td>\n",
       "      <td>\"Delight\" says it all</td>\n",
       "      <td>This is a confection that has been around a fe...</td>\n",
       "      <td>Positive</td>\n",
       "    </tr>\n",
       "    <tr>\n",
       "      <th>3</th>\n",
       "      <td>4</td>\n",
       "      <td>B000UA0QIQ</td>\n",
       "      <td>A395BORC6FGVXV</td>\n",
       "      <td>Karl</td>\n",
       "      <td>3</td>\n",
       "      <td>3</td>\n",
       "      <td>2</td>\n",
       "      <td>1307923200</td>\n",
       "      <td>Cough Medicine</td>\n",
       "      <td>If you are looking for the secret ingredient i...</td>\n",
       "      <td>Negative</td>\n",
       "    </tr>\n",
       "    <tr>\n",
       "      <th>4</th>\n",
       "      <td>5</td>\n",
       "      <td>B006K2ZZ7K</td>\n",
       "      <td>A1UQRSCLF8GW1T</td>\n",
       "      <td>Michael D. Bigham \"M. Wassir\"</td>\n",
       "      <td>0</td>\n",
       "      <td>0</td>\n",
       "      <td>5</td>\n",
       "      <td>1350777600</td>\n",
       "      <td>Great taffy</td>\n",
       "      <td>Great taffy at a great price.  There was a wid...</td>\n",
       "      <td>Positive</td>\n",
       "    </tr>\n",
       "  </tbody>\n",
       "</table>\n",
       "</div>"
      ],
      "text/plain": [
       "   Id   ProductId          UserId                      ProfileName  \\\n",
       "0   1  B001E4KFG0  A3SGXH7AUHU8GW                       delmartian   \n",
       "1   2  B00813GRG4  A1D87F6ZCVE5NK                           dll pa   \n",
       "2   3  B000LQOCH0   ABXLMWJIXXAIN  Natalia Corres \"Natalia Corres\"   \n",
       "3   4  B000UA0QIQ  A395BORC6FGVXV                             Karl   \n",
       "4   5  B006K2ZZ7K  A1UQRSCLF8GW1T    Michael D. Bigham \"M. Wassir\"   \n",
       "\n",
       "   HelpfulnessNumerator  HelpfulnessDenominator  Score        Time  \\\n",
       "0                     1                       1      5  1303862400   \n",
       "1                     0                       0      1  1346976000   \n",
       "2                     1                       1      4  1219017600   \n",
       "3                     3                       3      2  1307923200   \n",
       "4                     0                       0      5  1350777600   \n",
       "\n",
       "                 Summary                                               Text  \\\n",
       "0  Good Quality Dog Food  I have bought several of the Vitality canned d...   \n",
       "1      Not as Advertised  Product arrived labeled as Jumbo Salted Peanut...   \n",
       "2  \"Delight\" says it all  This is a confection that has been around a fe...   \n",
       "3         Cough Medicine  If you are looking for the secret ingredient i...   \n",
       "4            Great taffy  Great taffy at a great price.  There was a wid...   \n",
       "\n",
       "  Sentiment  \n",
       "0  Positive  \n",
       "1  Negative  \n",
       "2  Positive  \n",
       "3  Negative  \n",
       "4  Positive  "
      ]
     },
     "execution_count": 31,
     "metadata": {},
     "output_type": "execute_result"
    }
   ],
   "source": [
    "save_path='../data/processed_data/processed_data.csv'\n",
    "processed_data2=load_data(save_path)\n",
    "processed_data2.head()"
   ]
  },
  {
   "cell_type": "code",
   "execution_count": 32,
   "id": "121b5a24-74d4-4d62-92b3-a1eb0908acc9",
   "metadata": {},
   "outputs": [],
   "source": [
    "def generate_sentiment_distribution_plot(dataset: pd.DataFrame,save_path:str)->None:\n",
    "    print(\"Pie chart: \")\n",
    "    dataset[\"Sentiment\"].value_counts().plot(kind=\"pie\", autopct=\"%1.1f%%\")\n",
    "    plt.title(\"Sentiment Distribution\")\n",
    "    plt.savefig(save_path)\n",
    "    plt.show()"
   ]
  },
  {
   "cell_type": "code",
   "execution_count": 33,
   "id": "c2ddac38-f592-4a62-a746-d1982a2f1626",
   "metadata": {},
   "outputs": [
    {
     "name": "stdout",
     "output_type": "stream",
     "text": [
      "Pie chart: \n"
     ]
    },
    {
     "data": {
      "image/png": "[encoded data removed]",
      "text/plain": [
       "<Figure size 640x480 with 1 Axes>"
      ]
     },
     "metadata": {},
     "output_type": "display_data"
    }
   ],
   "source": [
    "generate_sentiment_distribution_plot(processed_data2,'../assets/sentiment_distribution_plot.png')"
   ]
  },
  {
   "cell_type": "code",
   "execution_count": 34,
   "id": "5d5018a3-9836-40f9-9d44-cc960e11d95f",
   "metadata": {},
   "outputs": [],
   "source": [
    "def generate_reviews_over_time_graph(df: pd.DataFrame,save_path:str)->None:\n",
    "    df[\"Date\"] = pd.to_datetime(df[\"Time\"], unit=\"s\")\n",
    "    df[\"Year\"] = df[\"Date\"].dt.year\n",
    "    df[\"Year\"].value_counts().sort_index().plot(kind=\"line\")\n",
    "    plt.title(\"Reviews Over Time\")\n",
    "    plt.xlabel(\"Year\")\n",
    "    plt.ylabel(\"Number of Reviews\")\n",
    "    plt.grid()\n",
    "    plt.savefig(save_path)\n",
    "    plt.show()"
   ]
  },
  {
   "cell_type": "code",
   "execution_count": 35,
   "id": "45058211-9369-4ad6-a46a-bd281ed3781d",
   "metadata": {},
   "outputs": [
    {
     "data": {
      "image/png": "[encoded data removed]",
      "text/plain": [
       "<Figure size 640x480 with 1 Axes>"
      ]
     },
     "metadata": {},
     "output_type": "display_data"
    }
   ],
   "source": [
    "generate_reviews_over_time_graph(processed_data2,'../assets/Review_Over_Time_Graph.jpg')"
   ]
  },
  {
   "cell_type": "code",
   "execution_count": 36,
   "id": "37c54ef9-6e47-4e5b-ac33-a4e87917a8d8",
   "metadata": {},
   "outputs": [],
   "source": [
    "def generate_top10_products_by_review_count(dataset: pd.DataFrame,save_path:str)->None:\n",
    "    dataset[\"ProductId\"].value_counts().head(10).plot(kind=\"bar\")\n",
    "    plt.title(\"Top 10 Products by Review Count\")\n",
    "    plt.xlabel(\"Product ID\")\n",
    "    plt.ylabel(\"Number of Reviews\")\n",
    "    #plt.grid()\n",
    "    plt.savefig(save_path)\n",
    "    plt.show()"
   ]
  },
  {
   "cell_type": "code",
   "execution_count": 37,
   "id": "8832bd6b-5d44-44c2-86db-630b376954aa",
   "metadata": {},
   "outputs": [
    {
     "data": {
      "image/png": "[encoded data removed]",
      "text/plain": [
       "<Figure size 640x480 with 1 Axes>"
      ]
     },
     "metadata": {},
     "output_type": "display_data"
    }
   ],
   "source": [
    "generate_top10_products_by_review_count(processed_data2,'../assets/Top10_Products_By_Review_Count.png')"
   ]
  },
  {
   "cell_type": "code",
   "execution_count": 38,
   "id": "333e6f4c-bdde-4913-9423-4bfb39e640bc",
   "metadata": {},
   "outputs": [],
   "source": [
    "def preprocess_data(dataset:pd.DataFrame ,save_path: str) -> None:\n",
    "    dataset = processed_data2[['ProductId', 'UserId', 'Text']]\n",
    "\n",
    "    dataset.to_csv(save_path, index=False)\n",
    "    print(dataset.head())\n"
   ]
  },
  {
   "cell_type": "code",
   "execution_count": 39,
   "id": "48cda227-5148-497b-9921-4ace5ea9ffac",
   "metadata": {},
   "outputs": [
    {
     "name": "stdout",
     "output_type": "stream",
     "text": [
      "    ProductId          UserId  \\\n",
      "0  B001E4KFG0  A3SGXH7AUHU8GW   \n",
      "1  B00813GRG4  A1D87F6ZCVE5NK   \n",
      "2  B000LQOCH0   ABXLMWJIXXAIN   \n",
      "3  B000UA0QIQ  A395BORC6FGVXV   \n",
      "4  B006K2ZZ7K  A1UQRSCLF8GW1T   \n",
      "\n",
      "                                                Text  \n",
      "0  I have bought several of the Vitality canned d...  \n",
      "1  Product arrived labeled as Jumbo Salted Peanut...  \n",
      "2  This is a confection that has been around a fe...  \n",
      "3  If you are looking for the secret ingredient i...  \n",
      "4  Great taffy at a great price.  There was a wid...  \n"
     ]
    }
   ],
   "source": [
    "preprocess_data3=preprocess_data(processed_data2,'../data/processed_data/processed_data.csv')"
   ]
  },
  {
   "cell_type": "code",
   "execution_count": 41,
   "id": "3c3975d9",
   "metadata": {},
   "outputs": [
    {
     "name": "stdout",
     "output_type": "stream",
     "text": [
      "    ProductId          UserId  \\\n",
      "0  B001E4KFG0  A3SGXH7AUHU8GW   \n",
      "1  B00813GRG4  A1D87F6ZCVE5NK   \n",
      "2  B000LQOCH0   ABXLMWJIXXAIN   \n",
      "3  B000UA0QIQ  A395BORC6FGVXV   \n",
      "4  B006K2ZZ7K  A1UQRSCLF8GW1T   \n",
      "5  B006K2ZZ7K   ADT0SRK1MGOEU   \n",
      "6  B006K2ZZ7K  A1SP2KVKFXXRU1   \n",
      "7  B006K2ZZ7K  A3JRGQVEQN31IQ   \n",
      "8  B000E7L2R4  A1MZYO9TZK0BBI   \n",
      "9  B00171APVA  A21BT40VZCCYT4   \n",
      "\n",
      "                                                Text  \n",
      "0  I have bought several of the Vitality canned d...  \n",
      "1  Product arrived labeled as Jumbo Salted Peanut...  \n",
      "2  This is a confection that has been around a fe...  \n",
      "3  If you are looking for the secret ingredient i...  \n",
      "4  Great taffy at a great price.  There was a wid...  \n",
      "5  I got a wild hair for taffy and ordered this f...  \n",
      "6  This saltwater taffy had great flavors and was...  \n",
      "7  This taffy is so good.  It is very soft and ch...  \n",
      "8  Right now I'm mostly just sprouting this so my...  \n",
      "9  This is a very healthy dog food. Good for thei...  \n"
     ]
    }
   ],
   "source": [
    "save_path='../data/processed_data/processed_data.csv'\n",
    "data3=load_data(save_path)\n",
    "print(data3.head(10))"
   ]
  },
  {
   "cell_type": "code",
   "execution_count": null,
   "id": "b11a30c9",
   "metadata": {},
   "outputs": [],
   "source": []
  }
 ],
 "metadata": {
  "kernelspec": {
   "display_name": "tech",
   "language": "python",
   "name": "python3"
  },
  "language_info": {
   "codemirror_mode": {
    "name": "ipython",
    "version": 3
   },
   "file_extension": ".py",
   "mimetype": "text/x-python",
   "name": "python",
   "nbconvert_exporter": "python",
   "pygments_lexer": "ipython3",
   "version": "3.12.8"
  }
 },
 "nbformat": 4,
 "nbformat_minor": 5
}
