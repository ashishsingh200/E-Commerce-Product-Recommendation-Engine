{
 "cells": [
  {
   "cell_type": "code",
   "execution_count": null,
   "id": "b46ad2fe",
   "metadata": {
    "vscode": {
     "languageId": "plaintext"
    }
   },
   "outputs": [],
   "source": [
    "python -m venv tech"
   ]
  },
  {
   "cell_type": "code",
   "execution_count": null,
   "id": "b64b4712",
   "metadata": {
    "vscode": {
     "languageId": "plaintext"
    }
   },
   "outputs": [],
   "source": [
    "%pip install -r requirements.txt"
   ]
  }
 ],
 "metadata": {
  "language_info": {
   "name": "python"
  }
 },
 "nbformat": 4,
 "nbformat_minor": 5
}
