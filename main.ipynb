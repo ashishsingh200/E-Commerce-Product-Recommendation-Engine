{
 "cells": [
  {
   "cell_type": "code",
   "execution_count": 1,
   "id": "10a3b19a",
   "metadata": {},
   "outputs": [],
   "source": [
    "import gradio as gr\n",
    "import pandas as pd\n",
    "import joblib"
   ]
  },
  {
   "cell_type": "code",
   "execution_count": 2,
   "id": "f36883f8",
   "metadata": {},
   "outputs": [],
   "source": [
    "vectorizer = joblib.load('models/tfidf_vectorizer.pkl')\n",
    "kmeans_model = joblib.load('models/kmeans_model.pkl')\n",
    "processed_data = pd.read_csv('data/processed_data/final_data.csv')"
   ]
  },
  {
   "cell_type": "code",
   "execution_count": 3,
   "id": "4629531a",
   "metadata": {},
   "outputs": [
    {
     "name": "stdout",
     "output_type": "stream",
     "text": [
      "* Running on local URL:  http://127.0.0.1:7860\n",
      "* Running on public URL: https://99d758ab0a3581d967.gradio.live\n",
      "\n",
      "This share link expires in 1 week. For free permanent hosting and GPU upgrades, run `gradio deploy` from the terminal in the working directory to deploy to Hugging Face Spaces (https://huggingface.co/spaces)\n"
     ]
    },
    {
     "data": {
      "text/html": [
       "<div><iframe src=\"https://99d758ab0a3581d967.gradio.live\" width=\"100%\" height=\"500\" allow=\"autoplay; camera; microphone; clipboard-read; clipboard-write;\" frameborder=\"0\" allowfullscreen></iframe></div>"
      ],
      "text/plain": [
       "<IPython.core.display.HTML object>"
      ]
     },
     "metadata": {},
     "output_type": "display_data"
    },
    {
     "data": {
      "text/plain": []
     },
     "execution_count": 3,
     "metadata": {},
     "output_type": "execute_result"
    }
   ],
   "source": [
    "def recommend_products(user_id):\n",
    "    user_data = processed_data[processed_data['UserId'] == user_id]\n",
    "    if user_data.empty:\n",
    "        return \"❌ User ID not found!\"\n",
    "    \n",
    "    user_text = \" \".join(user_data['Cleaned_Text'].values)\n",
    "    user_vector = vectorizer.transform([user_text])\n",
    "    \n",
    "    user_cluster = kmeans_model.predict(user_vector)\n",
    "    \n",
    "    cluster_products = processed_data[processed_data['Cluster'] == user_cluster[0]]\n",
    "    recommendations = cluster_products['ProductId'].value_counts().head(5).index.tolist()\n",
    "    \n",
    "    return \"\\n\".join(recommendations)\n",
    "\n",
    "with gr.Blocks(theme=gr.themes.Soft()) as demo:\n",
    "    gr.Markdown(\"\"\"\n",
    "    # 🛒 E-commerce Product Recommendation Engine\n",
    "    Welcome! Enter your **User ID** to get your top 5 product recommendations based on Amazon Fine Food Reviews!\n",
    "    \"\"\")\n",
    "\n",
    "    with gr.Row():\n",
    "        with gr.Column():\n",
    "            user_input = gr.Textbox(label=\"🔎 Enter User ID\", placeholder=\"e.g. A3SGXH7AUHU8GW\")\n",
    "            submit_btn = gr.Button(\"🎯 Recommend Products\")\n",
    "        with gr.Column():\n",
    "            output = gr.Textbox(label=\"📦 Top 5 Recommended Product_ID\", lines=5)\n",
    "\n",
    "    submit_btn.click(fn=recommend_products, inputs=user_input, outputs=output)\n",
    "\n",
    "demo.launch(share=True)\n"
   ]
  },
  {
   "cell_type": "code",
   "execution_count": null,
   "id": "04799a90",
   "metadata": {},
   "outputs": [],
   "source": []
  }
 ],
 "metadata": {
  "kernelspec": {
   "display_name": "tech",
   "language": "python",
   "name": "python3"
  },
  "language_info": {
   "codemirror_mode": {
    "name": "ipython",
    "version": 3
   },
   "file_extension": ".py",
   "mimetype": "text/x-python",
   "name": "python",
   "nbconvert_exporter": "python",
   "pygments_lexer": "ipython3",
   "version": "3.12.8"
  }
 },
 "nbformat": 4,
 "nbformat_minor": 5
}
